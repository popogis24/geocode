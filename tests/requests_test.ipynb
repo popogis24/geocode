{
 "cells": [
  {
   "cell_type": "code",
   "execution_count": null,
   "metadata": {},
   "outputs": [],
   "source": [
    "import requests\n",
    "\n",
    "\n",
    "r = requests.get('https://geocode.search.hereapi.com/v1/geocode?q=Invalidenstr+117+Berlin&apiKey=-dfJYn8-HT_zeiS6OApYAqXLG1zmq6oUFolqf3XJg0k')\n",
    "\n",
    "print(r.json())\n"
   ]
  }
 ],
 "metadata": {
  "kernelspec": {
   "display_name": ".venv",
   "language": "python",
   "name": "python3"
  },
  "language_info": {
   "name": "python",
   "version": "3.12.3"
  }
 },
 "nbformat": 4,
 "nbformat_minor": 2
}
